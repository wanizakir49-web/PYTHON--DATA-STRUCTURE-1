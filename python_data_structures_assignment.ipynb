{
 "cells": [
  {
   "cell_type": "markdown",
   "id": "9d33decb",
   "metadata": {},
   "source": [
    "**Q: What are data structures, and why are they important?**\n",
    "\n",
    "**A:** Data structures are ways of organizing and storing data so that they can be accessed and modified efficiently. They are important because they help in managing large amounts of data, optimizing performance, and improving code efficiency."
   ]
  },
  {
   "cell_type": "markdown",
   "id": "316ace6b",
   "metadata": {},
   "source": [
    "**Q: Explain the difference between mutable and immutable data types with examples.**\n",
    "\n",
    "**A:** Mutable data types can be changed after creation, e.g., lists, dictionaries, sets.\n",
    "Immutable data types cannot be changed once created, e.g., tuples, strings.\n",
    "\n",
    "Example:\n",
    "List: my_list = [1, 2, 3]; my_list[0] = 10 → [10, 2, 3]\n",
    "Tuple: my_tuple = (1, 2, 3); my_tuple[0] = 10 → Error"
   ]
  },
  {
   "cell_type": "markdown",
   "id": "566cb4b0",
   "metadata": {},
   "source": [
    "**Q: What are the main differences between lists and tuples in Python?**\n",
    "\n",
    "**A:** - Lists are mutable, tuples are immutable.\n",
    "- Lists use square brackets [], tuples use parentheses ().\n",
    "- Lists are slower than tuples because of mutability.\n",
    "- Tuples ensure data integrity."
   ]
  },
  {
   "cell_type": "markdown",
   "id": "f199ed40",
   "metadata": {},
   "source": [
    "**Q: Describe how dictionaries store data.**\n",
    "\n",
    "**A:** Dictionaries store data as key-value pairs using a hash table. Keys are unique and mapped to values for fast lookup."
   ]
  },
  {
   "cell_type": "markdown",
   "id": "a5ac2ca0",
   "metadata": {},
   "source": [
    "**Q: Why might you use a set instead of a list in Python?**\n",
    "\n",
    "**A:** Sets automatically remove duplicate values and support fast membership checking, making them useful when uniqueness is required."
   ]
  },
  {
   "cell_type": "markdown",
   "id": "869a6105",
   "metadata": {},
   "source": [
    "**Q: What is a string in Python, and how is it different from a list?**\n",
    "\n",
    "**A:** A string is an immutable sequence of characters. Unlike lists, strings cannot be modified after creation. Lists are mutable and can hold different data types."
   ]
  },
  {
   "cell_type": "markdown",
   "id": "849e5476",
   "metadata": {},
   "source": [
    "**Q: How do tuples ensure data integrity in Python?**\n",
    "\n",
    "**A:** Tuples are immutable, meaning their data cannot be altered after creation, which ensures the integrity of stored values."
   ]
  },
  {
   "cell_type": "markdown",
   "id": "d6a6533d",
   "metadata": {},
   "source": [
    "**Q: What is a hash table, and how does it relate to dictionaries in Python?**\n",
    "\n",
    "**A:** A hash table stores key-value pairs and uses a hash function to compute the index of keys. Python dictionaries are implemented as hash tables."
   ]
  },
  {
   "cell_type": "markdown",
   "id": "922a3002",
   "metadata": {},
   "source": [
    "**Q: Can lists contain different data types in Python?**\n",
    "\n",
    "**A:** Yes, lists can hold multiple data types, e.g., [1, 'hello', 3.5, True]."
   ]
  },
  {
   "cell_type": "markdown",
   "id": "4eeab10f",
   "metadata": {},
   "source": [
    "**Q: Explain why strings are immutable in Python.**\n",
    "\n",
    "**A:** Strings are immutable to improve performance and security, and to make them hashable (usable as dictionary keys)."
   ]
  },
  {
   "cell_type": "markdown",
   "id": "19107962",
   "metadata": {},
   "source": [
    "**Q: What advantages do dictionaries offer over lists for certain tasks?**\n",
    "\n",
    "**A:** Dictionaries provide fast key-based lookups, better data organization, and uniqueness of keys compared to lists."
   ]
  },
  {
   "cell_type": "markdown",
   "id": "39c06d5b",
   "metadata": {},
   "source": [
    "**Q: Describe a scenario where using a tuple would be preferable over a list.**\n",
    "\n",
    "**A:** When you want to store constant data that should not be changed, such as coordinates (x, y) or database record fields."
   ]
  },
  {
   "cell_type": "markdown",
   "id": "6875f7e3",
   "metadata": {},
   "source": [
    "**Q: How do sets handle duplicate values in Python?**\n",
    "\n",
    "**A:** Sets automatically remove duplicate values, keeping only unique elements."
   ]
  },
  {
   "cell_type": "markdown",
   "id": "9ba57dc0",
   "metadata": {},
   "source": [
    "**Q: How does the 'in' keyword work differently for lists and dictionaries?**\n",
    "\n",
    "**A:** 'in' for lists checks whether a value exists in the list. For dictionaries, it checks if a key exists."
   ]
  },
  {
   "cell_type": "markdown",
   "id": "2070e508",
   "metadata": {},
   "source": [
    "**Q: Can you modify the elements of a tuple? Explain why or why not.**\n",
    "\n",
    "**A:** No, tuples are immutable, so their elements cannot be modified after creation."
   ]
  },
  {
   "cell_type": "markdown",
   "id": "d56529ae",
   "metadata": {},
   "source": [
    "**Q: What is a nested dictionary, and give an example of its use case.**\n",
    "\n",
    "**A:** A nested dictionary is a dictionary within another dictionary.\n",
    "Example: students = {'A': {'age': 20, 'grade': 'A'}, 'B': {'age': 21, 'grade': 'B'}}"
   ]
  },
  {
   "cell_type": "markdown",
   "id": "86ffc91d",
   "metadata": {},
   "source": [
    "**Q: Describe the time complexity of accessing elements in a dictionary.**\n",
    "\n",
    "**A:** Accessing elements in a dictionary has average time complexity O(1), because it uses a hash table."
   ]
  },
  {
   "cell_type": "markdown",
   "id": "4aaacf71",
   "metadata": {},
   "source": [
    "**Q: In what situations are lists preferred over dictionaries?**\n",
    "\n",
    "**A:** Lists are preferred when order matters, when storing duplicates, or when sequential data access is needed."
   ]
  },
  {
   "cell_type": "markdown",
   "id": "2aed1c07",
   "metadata": {},
   "source": [
    "**Q: Why are dictionaries considered unordered, and how does that affect data retrieval?**\n",
    "\n",
    "**A:** Dictionaries are unordered because keys are stored based on hash values. Data retrieval is not based on insertion order (before Python 3.7). From Python 3.7+, dictionaries maintain insertion order but conceptually remain unordered."
   ]
  },
  {
   "cell_type": "markdown",
   "id": "525c803b",
   "metadata": {},
   "source": [
    "**Q: Explain the difference between a list and a dictionary in terms of data retrieval.**\n",
    "\n",
    "**A:** - Lists: Access elements by index position.\n",
    "- Dictionaries: Access elements by unique keys."
   ]
  },
  {
   "cell_type": "markdown",
   "id": "28fa9ff0",
   "metadata": {},
   "source": [
    "**Q: Write a code to create a string with your name and print it.**"
   ]
  },
  {
   "cell_type": "code",
   "execution_count": null,
   "id": "847f82c6",
   "metadata": {},
   "outputs": [],
   "source": [
    "name = 'Khadija'\n",
    "print(name)"
   ]
  },
  {
   "cell_type": "markdown",
   "id": "b60bf5fa",
   "metadata": {},
   "source": [
    "**Q: Write a code to find the length of the string 'Hello World'.**"
   ]
  },
  {
   "cell_type": "code",
   "execution_count": null,
   "id": "301afe5c",
   "metadata": {},
   "outputs": [],
   "source": [
    "s = 'Hello World'\n",
    "print(len(s))"
   ]
  },
  {
   "cell_type": "markdown",
   "id": "bde84d4f",
   "metadata": {},
   "source": [
    "**Q: Write a code to slice the first 3 characters from the string 'Python Programming'.**"
   ]
  },
  {
   "cell_type": "code",
   "execution_count": null,
   "id": "07ba87fb",
   "metadata": {},
   "outputs": [],
   "source": [
    "s = 'Python Programming'\n",
    "print(s[:3])"
   ]
  },
  {
   "cell_type": "markdown",
   "id": "80463d75",
   "metadata": {},
   "source": [
    "**Q: Write a code to convert the string 'hello' to uppercase.**"
   ]
  },
  {
   "cell_type": "code",
   "execution_count": null,
   "id": "2ea2f0b8",
   "metadata": {},
   "outputs": [],
   "source": [
    "s = 'hello'\n",
    "print(s.upper())"
   ]
  },
  {
   "cell_type": "markdown",
   "id": "df37d11c",
   "metadata": {},
   "source": [
    "**Q: Write a code to replace the word 'apple' with 'orange' in the string 'I like apple'.**"
   ]
  },
  {
   "cell_type": "code",
   "execution_count": null,
   "id": "19579672",
   "metadata": {},
   "outputs": [],
   "source": [
    "s = 'I like apple'\n",
    "print(s.replace('apple', 'orange'))"
   ]
  },
  {
   "cell_type": "markdown",
   "id": "6a160b1d",
   "metadata": {},
   "source": [
    "**Q: Write a code to create a list with numbers 1 to 5 and print it.**"
   ]
  },
  {
   "cell_type": "code",
   "execution_count": null,
   "id": "139e2ac6",
   "metadata": {},
   "outputs": [],
   "source": [
    "lst = [1, 2, 3, 4, 5]\n",
    "print(lst)"
   ]
  },
  {
   "cell_type": "markdown",
   "id": "3dcbf629",
   "metadata": {},
   "source": [
    "**Q: Write a code to append the number 10 to the list [1, 2, 3, 4].**"
   ]
  },
  {
   "cell_type": "code",
   "execution_count": null,
   "id": "4b36c5cd",
   "metadata": {},
   "outputs": [],
   "source": [
    "lst = [1, 2, 3, 4]\n",
    "lst.append(10)\n",
    "print(lst)"
   ]
  },
  {
   "cell_type": "markdown",
   "id": "aa47af7a",
   "metadata": {},
   "source": [
    "**Q: Write a code to remove the number 3 from the list [1, 2, 3, 4, 5].**"
   ]
  },
  {
   "cell_type": "code",
   "execution_count": null,
   "id": "d56ac5e6",
   "metadata": {},
   "outputs": [],
   "source": [
    "lst = [1, 2, 3, 4, 5]\n",
    "lst.remove(3)\n",
    "print(lst)"
   ]
  },
  {
   "cell_type": "markdown",
   "id": "3cab7c51",
   "metadata": {},
   "source": [
    "**Q: Write a code to access the second element in the list ['a', 'b', 'c', 'd'].**"
   ]
  },
  {
   "cell_type": "code",
   "execution_count": null,
   "id": "f5c7bc94",
   "metadata": {},
   "outputs": [],
   "source": [
    "lst = ['a', 'b', 'c', 'd']\n",
    "print(lst[1])"
   ]
  },
  {
   "cell_type": "markdown",
   "id": "6fc5355c",
   "metadata": {},
   "source": [
    "**Q: Write a code to reverse the list [10, 20, 30, 40, 50].**"
   ]
  },
  {
   "cell_type": "code",
   "execution_count": null,
   "id": "18be091c",
   "metadata": {},
   "outputs": [],
   "source": [
    "lst = [10, 20, 30, 40, 50]\n",
    "lst.reverse()\n",
    "print(lst)"
   ]
  },
  {
   "cell_type": "markdown",
   "id": "547a7ae3",
   "metadata": {},
   "source": [
    "**Q: Write a code to create a tuple with the elements 100, 200, 300 and print it.**"
   ]
  },
  {
   "cell_type": "code",
   "execution_count": null,
   "id": "67a9b45a",
   "metadata": {},
   "outputs": [],
   "source": [
    "t = (100, 200, 300)\n",
    "print(t)"
   ]
  },
  {
   "cell_type": "markdown",
   "id": "32581159",
   "metadata": {},
   "source": [
    "**Q: Write a code to access the second-to-last element of the tuple ('red', 'green', 'blue', 'yellow').**"
   ]
  },
  {
   "cell_type": "code",
   "execution_count": null,
   "id": "1b439d60",
   "metadata": {},
   "outputs": [],
   "source": [
    "t = ('red', 'green', 'blue', 'yellow')\n",
    "print(t[-2])"
   ]
  },
  {
   "cell_type": "markdown",
   "id": "9817d1a9",
   "metadata": {},
   "source": [
    "**Q: Write a code to find the minimum number in the tuple (10, 20, 5, 15).**"
   ]
  },
  {
   "cell_type": "code",
   "execution_count": null,
   "id": "34659292",
   "metadata": {},
   "outputs": [],
   "source": [
    "t = (10, 20, 5, 15)\n",
    "print(min(t))"
   ]
  },
  {
   "cell_type": "markdown",
   "id": "68ac1281",
   "metadata": {},
   "source": [
    "**Q: Write a code to find the index of the element 'cat' in the tuple ('dog', 'cat', 'rabbit').**"
   ]
  },
  {
   "cell_type": "code",
   "execution_count": null,
   "id": "923c811a",
   "metadata": {},
   "outputs": [],
   "source": [
    "t = ('dog', 'cat', 'rabbit')\n",
    "print(t.index('cat'))"
   ]
  },
  {
   "cell_type": "markdown",
   "id": "b9a342d1",
   "metadata": {},
   "source": [
    "**Q: Write a code to create a tuple containing three different fruits and check if 'kiwi' is in it.**"
   ]
  },
  {
   "cell_type": "code",
   "execution_count": null,
   "id": "88758bb6",
   "metadata": {},
   "outputs": [],
   "source": [
    "fruits = ('apple', 'banana', 'cherry')\n",
    "print('kiwi' in fruits)"
   ]
  },
  {
   "cell_type": "markdown",
   "id": "f842c8cf",
   "metadata": {},
   "source": [
    "**Q: Write a code to create a set with the elements 'a', 'b', 'c' and print it.**"
   ]
  },
  {
   "cell_type": "code",
   "execution_count": null,
   "id": "1a0fec5b",
   "metadata": {},
   "outputs": [],
   "source": [
    "s = {'a', 'b', 'c'}\n",
    "print(s)"
   ]
  },
  {
   "cell_type": "markdown",
   "id": "adc28e76",
   "metadata": {},
   "source": [
    "**Q: Write a code to clear all elements from the set {1, 2, 3, 4, 5}.**"
   ]
  },
  {
   "cell_type": "code",
   "execution_count": null,
   "id": "883000f9",
   "metadata": {},
   "outputs": [],
   "source": [
    "s = {1, 2, 3, 4, 5}\n",
    "s.clear()\n",
    "print(s)"
   ]
  },
  {
   "cell_type": "markdown",
   "id": "3444349c",
   "metadata": {},
   "source": [
    "**Q: Write a code to remove the element 4 from the set {1, 2, 3, 4}.**"
   ]
  },
  {
   "cell_type": "code",
   "execution_count": null,
   "id": "d9cd8d59",
   "metadata": {},
   "outputs": [],
   "source": [
    "s = {1, 2, 3, 4}\n",
    "s.remove(4)\n",
    "print(s)"
   ]
  },
  {
   "cell_type": "markdown",
   "id": "4657033e",
   "metadata": {},
   "source": [
    "**Q: Write a code to find the union of two sets {1, 2, 3} and {3, 4, 5}.**"
   ]
  },
  {
   "cell_type": "code",
   "execution_count": null,
   "id": "8278a248",
   "metadata": {},
   "outputs": [],
   "source": [
    "s1 = {1, 2, 3}\n",
    "s2 = {3, 4, 5}\n",
    "print(s1.union(s2))"
   ]
  },
  {
   "cell_type": "markdown",
   "id": "8d631772",
   "metadata": {},
   "source": [
    "**Q: Write a code to find the intersection of two sets {1, 2, 3} and {2, 3, 4}.**"
   ]
  },
  {
   "cell_type": "code",
   "execution_count": null,
   "id": "c34b0f7f",
   "metadata": {},
   "outputs": [],
   "source": [
    "s1 = {1, 2, 3}\n",
    "s2 = {2, 3, 4}\n",
    "print(s1.intersection(s2))"
   ]
  },
  {
   "cell_type": "markdown",
   "id": "dca0eb09",
   "metadata": {},
   "source": [
    "**Q: Write a code to create a dictionary with the keys 'name', 'age', and 'city', and print it.**"
   ]
  },
  {
   "cell_type": "code",
   "execution_count": null,
   "id": "09170abc",
   "metadata": {},
   "outputs": [],
   "source": [
    "d = {'name': 'John', 'age': 25, 'city': 'New York'}\n",
    "print(d)"
   ]
  },
  {
   "cell_type": "markdown",
   "id": "a8bdc9ea",
   "metadata": {},
   "source": [
    "**Q: Write a code to add a new key-value pair 'country': 'USA' to the dictionary {'name': 'John', 'age': 25}.**"
   ]
  },
  {
   "cell_type": "code",
   "execution_count": null,
   "id": "01406c8b",
   "metadata": {},
   "outputs": [],
   "source": [
    "d = {'name': 'John', 'age': 25}\n",
    "d['country'] = 'USA'\n",
    "print(d)"
   ]
  },
  {
   "cell_type": "markdown",
   "id": "751cc333",
   "metadata": {},
   "source": [
    "**Q: Write a code to access the value associated with the key 'name' in the dictionary {'name': 'Alice', 'age': 30}.**"
   ]
  },
  {
   "cell_type": "code",
   "execution_count": null,
   "id": "4b376246",
   "metadata": {},
   "outputs": [],
   "source": [
    "d = {'name': 'Alice', 'age': 30}\n",
    "print(d['name'])"
   ]
  },
  {
   "cell_type": "markdown",
   "id": "75f8b76d",
   "metadata": {},
   "source": [
    "**Q: Write a code to remove the key 'age' from the dictionary {'name': 'Bob', 'age': 22, 'city': 'New York'}.**"
   ]
  },
  {
   "cell_type": "code",
   "execution_count": null,
   "id": "1e105e0c",
   "metadata": {},
   "outputs": [],
   "source": [
    "d = {'name': 'Bob', 'age': 22, 'city': 'New York'}\n",
    "d.pop('age')\n",
    "print(d)"
   ]
  },
  {
   "cell_type": "markdown",
   "id": "036ba661",
   "metadata": {},
   "source": [
    "**Q: Write a code to check if the key 'city' exists in the dictionary {'name': 'Alice', 'city': 'Paris'}.**"
   ]
  },
  {
   "cell_type": "code",
   "execution_count": null,
   "id": "7d670468",
   "metadata": {},
   "outputs": [],
   "source": [
    "d = {'name': 'Alice', 'city': 'Paris'}\n",
    "print('city' in d)"
   ]
  },
  {
   "cell_type": "markdown",
   "id": "1d21c31a",
   "metadata": {},
   "source": [
    "**Q: Write a code to create a list, a tuple, and a dictionary, and print them all.**"
   ]
  },
  {
   "cell_type": "code",
   "execution_count": null,
   "id": "3b4fddc0",
   "metadata": {},
   "outputs": [],
   "source": [
    "lst = [1, 2, 3]\n",
    "t = (4, 5, 6)\n",
    "d = {'a': 1, 'b': 2}\n",
    "print(lst, t, d)"
   ]
  },
  {
   "cell_type": "markdown",
   "id": "3b66769a",
   "metadata": {},
   "source": [
    "**Q: Write a code to create a list of 5 random numbers between 1 and 100, sort it in ascending order.**"
   ]
  },
  {
   "cell_type": "code",
   "execution_count": null,
   "id": "9eb36d96",
   "metadata": {},
   "outputs": [],
   "source": [
    "import random\n",
    "lst = random.sample(range(1, 101), 5)\n",
    "lst.sort()\n",
    "print(lst)"
   ]
  }
 ],
 "metadata": {},
 "nbformat": 4,
 "nbformat_minor": 5
}
